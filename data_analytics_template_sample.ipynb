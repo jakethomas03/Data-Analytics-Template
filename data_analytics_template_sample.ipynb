{
 "cells": [
  {
   "cell_type": "markdown",
   "id": "cc718b3f-c4d9-49e3-a0d0-960307a25954",
   "metadata": {},
   "source": [
    "## Data Analytics Template Sample File"
   ]
  },
  {
   "cell_type": "code",
   "execution_count": null,
   "id": "430dbcbc-fbbe-4d90-9c18-81206faa2a1d",
   "metadata": {},
   "outputs": [],
   "source": [
    "# Code goes here"
   ]
  },
  {
   "cell_type": "code",
   "execution_count": null,
   "id": "e83fb5ab-af1e-49d8-83ea-e25b6dfcd032",
   "metadata": {},
   "outputs": [],
   "source": [
    "print(\"hello world\")"
   ]
  }
 ],
 "metadata": {
  "kernelspec": {
   "display_name": "Python 3 (ipykernel)",
   "language": "python",
   "name": "python3"
  },
  "language_info": {
   "codemirror_mode": {
    "name": "ipython",
    "version": 3
   },
   "file_extension": ".py",
   "mimetype": "text/x-python",
   "name": "python",
   "nbconvert_exporter": "python",
   "pygments_lexer": "ipython3",
   "version": "3.11.9"
  }
 },
 "nbformat": 4,
 "nbformat_minor": 5
}
